{
 "cells": [
  {
   "cell_type": "code",
   "execution_count": 1,
   "id": "978ae1a3",
   "metadata": {},
   "outputs": [
    {
     "data": {
      "text/html": [
       "<style>.container { width:98% !important; }</style>"
      ],
      "text/plain": [
       "<IPython.core.display.HTML object>"
      ]
     },
     "metadata": {},
     "output_type": "display_data"
    }
   ],
   "source": [
    "from IPython.display import display, HTML\n",
    "display(HTML(\"<style>.container { width:98% !important; }</style>\"))"
   ]
  },
  {
   "cell_type": "code",
   "execution_count": 2,
   "id": "8e6385cb",
   "metadata": {},
   "outputs": [
    {
     "name": "stderr",
     "output_type": "stream",
     "text": [
      "/home/llr/cms/sghosh/software/miniconda3/envs/torchtest3p8/lib/python3.8/site-packages/tqdm/auto.py:21: TqdmWarning: IProgress not found. Please update jupyter and ipywidgets. See https://ipywidgets.readthedocs.io/en/stable/user_install.html\n",
      "  from .autonotebook import tqdm as notebook_tqdm\n",
      "/home/llr/cms/sghosh/software/miniconda3/envs/torchtest3p8/lib/python3.8/site-packages/torch_geometric/typing.py:31: UserWarning: An issue occurred while importing 'torch-scatter'. Disabling its usage. Stacktrace: libc10_cuda.so: cannot open shared object file: No such file or directory\n",
      "  warnings.warn(f\"An issue occurred while importing 'torch-scatter'. \"\n",
      "/home/llr/cms/sghosh/software/miniconda3/envs/torchtest3p8/lib/python3.8/site-packages/torch_geometric/typing.py:42: UserWarning: An issue occurred while importing 'torch-sparse'. Disabling its usage. Stacktrace: libc10_cuda.so: cannot open shared object file: No such file or directory\n",
      "  warnings.warn(f\"An issue occurred while importing 'torch-sparse'. \"\n"
     ]
    }
   ],
   "source": [
    "import uproot\n",
    "import numpy as np\n",
    "from tqdm import tqdm as tqdm\n",
    "import matplotlib.pyplot as plt\n",
    "import os\n",
    "import optparse\n",
    "import os.path as osp\n",
    "import awkward as ak\n",
    "import math\n",
    "import torch_geometric\n",
    "import torch\n",
    "import sys\n",
    "#import pandas as pd\n",
    "from torch_geometric.data import Data\n",
    "import glob"
   ]
  },
  {
   "cell_type": "code",
   "execution_count": 3,
   "id": "2394ef8b",
   "metadata": {},
   "outputs": [],
   "source": [
    "def analyze(filename,nfile,threshold, output_dir):\n",
    "\n",
    "\n",
    "\n",
    "        filein = uproot.open(filename)[\"ticlDumper\"]\n",
    "        \n",
    "        \n",
    "        \n",
    "        clusters = filein[\"clusters\"].arrays()\n",
    "        clusters = clusters[[x for x in ak.fields(clusters) if x not in [\"run_\",\"luminosityBlock_\",\"event_\"]]]\n",
    "        tracksters = filein[\"trackstersCLUE3DHigh\"].arrays()\n",
    "        associations = filein[\"associations\"].arrays()\n",
    "        simtrackstersCP = filein[\"simtrackstersCP\"].arrays()\n",
    "\n",
    "        ## flatten to get better shapes\n",
    "        simToReco_CP = ak.flatten(associations.tsCLUE3D_simToReco_CP)\n",
    "        simToReco_CP_score = ak.flatten(associations.tsCLUE3D_simToReco_CP_score)\n",
    "\n",
    "        ## choose the one with best score | best for closeby photons/electrons \n",
    "        minsimscore_idxs = ak.argmin(simToReco_CP_score,axis=-1,keepdims=True )\n",
    "\n",
    "\n",
    "        ## get corrsp trkster idxs\n",
    "        matchtrk_idxs = simToReco_CP[minsimscore_idxs]\n",
    "\n",
    "        tracksters.raw_energy[matchtrk_idxs]\n",
    "\n",
    "        ratio_trksim = tracksters.raw_em_energy[matchtrk_idxs]/simtrackstersCP.raw_em_energy\n",
    "        ratio_trksimtot = tracksters.raw_energy[matchtrk_idxs]/simtrackstersCP.raw_energy\n",
    "        #ratio_trksim = ratio_trksim.to_numpy()\n",
    "\n",
    "        #sel_clusters = clusters[tracksters.vertices_indexes[matchtrk_idxs]]\n",
    "        ncalop = len(simtrackstersCP)\n",
    "\n",
    "\n",
    "\n",
    "        listoftensors = []\n",
    "        ##maskcalo = ak.argmin(sel_simmatch_scr[sel_simmatch_idxs == 0],axis=1,keepdims=True)\n",
    "        for calop in range(ncalop):\n",
    "            ntrks = len(tracksters.raw_energy[matchtrk_idxs][calop])\n",
    "            \n",
    "            if ak.is_none(matchtrk_idxs[calop]):\n",
    "                #print(\"was isnone skipped\")\n",
    "                continue\n",
    "                \n",
    "            #print(ntrks)\n",
    "            for ntrk in range(ntrks):\n",
    "                gun_feats = np.stack((simtrackstersCP.boundaryEta[calop],\n",
    "                                      simtrackstersCP.boundaryPhi[calop],\n",
    "                                      simtrackstersCP.raw_em_energy[calop],\n",
    "                                      simtrackstersCP.raw_energy[calop], \n",
    "                                      ratio_trksim[calop],\n",
    "                                      ratio_trksimtot[calop])).to_numpy().data.T\n",
    "\n",
    "                #print(gun_feats.shape)\n",
    "                #print(gun_feats[:,3])\n",
    "\n",
    "                clus2d_feats = np.stack((ak.to_numpy(clusters.position_x[calop][ak.flatten(tracksters.vertices_indexes[matchtrk_idxs][calop][ntrk], axis=-1)]),\n",
    "                                 ak.to_numpy(clusters.position_y[calop][ak.flatten(tracksters.vertices_indexes[matchtrk_idxs][calop][ntrk], axis=-1)]),\n",
    "                                 ak.to_numpy(clusters.position_z[calop][ak.flatten(tracksters.vertices_indexes[matchtrk_idxs][calop][ntrk], axis=-1)]),\n",
    "                                 ak.to_numpy(clusters.energy[calop][ak.flatten(tracksters.vertices_indexes[matchtrk_idxs][calop][ntrk], axis=-1)]),\n",
    "                                 ak.to_numpy(clusters.cluster_time[calop][ak.flatten(tracksters.vertices_indexes[matchtrk_idxs][calop][ntrk], axis=-1)]),\n",
    "                                 ak.to_numpy(clusters.cluster_layer_id[calop][ak.flatten(tracksters.vertices_indexes[matchtrk_idxs][calop][ntrk], axis=-1)]))).T\n",
    "\n",
    "\n",
    "                #print(clus2d_feats.shape)\n",
    "                #print(np.sum(clus2d_feats[:,3]))\n",
    "\n",
    "\n",
    "                clus3d_feats = np.stack((tracksters.barycenter_eta[matchtrk_idxs][calop][ntrk],\n",
    "                                         tracksters.barycenter_phi[matchtrk_idxs][calop][ntrk],\n",
    "                                         tracksters.raw_em_energy[matchtrk_idxs][calop][ntrk],\n",
    "                                         tracksters.raw_energy[matchtrk_idxs][calop][ntrk],\n",
    "                                         min(ak.to_numpy(clusters.cluster_layer_id[calop][ak.flatten(tracksters.vertices_indexes[matchtrk_idxs][calop][ntrk], axis=-1)])),\n",
    "                                         max(ak.to_numpy(clusters.cluster_layer_id[calop][ak.flatten(tracksters.vertices_indexes[matchtrk_idxs][calop][ntrk], axis=-1)])))).T\n",
    "\n",
    "\n",
    "                #print(clus3d_feats.shape)\n",
    "                #print(clus3d_feats[3])\n",
    "\n",
    "\n",
    "                datum = Data(clus2d_feat = torch.tensor(clus2d_feats, dtype=torch.float32),\n",
    "                            clus3d_feat = torch.tensor(clus3d_feats, dtype=torch.float32),\n",
    "                            gun_feat = torch.tensor(gun_feats, dtype=torch.float32))\n",
    "\n",
    "                listoftensors.append(datum)\n",
    "                    \n",
    "                    \n",
    "\n",
    "        processed_dir = output_dir #'/grid_mnt/data__data.polcms/cms/sghosh/NEWPID_DATA/PHO/' ## PHO\n",
    "        import os\n",
    "        import os.path as osp\n",
    "        if not os.path.exists(processed_dir):\n",
    "            os.makedirs(processed_dir)\n",
    "\n",
    "\n",
    "        #torch.save(listoftensors, osp.join(processed_dir, 'data_{}_{}_{}_{}.pt'.format(nfile,evt,ngun,trkidx)))\n",
    "        torch.save(listoftensors, osp.join(processed_dir, 'data_{}.pt'.format(nfile)))\n",
    "        #print(\"skipped events:\",nsskip)\n",
    "        #print(\"average #tracksters:\",np.mean(ntrkster))\n",
    "        return 0"
   ]
  },
  {
   "cell_type": "code",
   "execution_count": 4,
   "id": "bc8d9dad",
   "metadata": {},
   "outputs": [
    {
     "name": "stdout",
     "output_type": "stream",
     "text": [
      "['step3_dumper_1.root', 'step3_dumper_3.root', 'step3_dumper_6.root', 'step3_dumper_5.root', 'step3_dumper_4.root', 'step3_dumper_2.root', 'step3_dumper_8.root', 'step3_dumper_9.root', 'step3_dumper_7.root', 'step3_dumper_10.root', 'step3_dumper_11.root', 'step3_dumper_12.root', 'step3_dumper_13.root', 'step3_dumper_15.root', 'step3_dumper_16.root', 'step3_dumper_18.root', 'step3_dumper_19.root', 'step3_dumper_20.root', 'step3_dumper_14.root', 'step3_dumper_21.root', 'step3_dumper_17.root', 'step3_dumper_22.root', 'step3_dumper_23.root', 'step3_dumper_26.root', 'step3_dumper_25.root', 'step3_dumper_24.root', 'step3_dumper_28.root', 'step3_dumper_33.root', 'step3_dumper_32.root', 'step3_dumper_29.root', 'step3_dumper_34.root', 'step3_dumper_35.root', 'step3_dumper_36.root', 'step3_dumper_30.root', 'step3_dumper_27.root', 'step3_dumper_31.root', 'step3_dumper_38.root', 'step3_dumper_37.root', 'step3_dumper_41.root', 'step3_dumper_42.root', 'step3_dumper_39.root', 'step3_dumper_43.root', 'step3_dumper_40.root', 'step3_dumper_48.root', 'step3_dumper_44.root', 'step3_dumper_47.root', 'step3_dumper_49.root', 'step3_dumper_45.root', 'step3_dumper_50.root', 'step3_dumper_51.root', 'step3_dumper_46.root', 'step3_dumper_52.root', 'step3_dumper_54.root', 'step3_dumper_53.root', 'step3_dumper_57.root', 'step3_dumper_58.root', 'step3_dumper_56.root', 'step3_dumper_63.root', 'step3_dumper_60.root', 'step3_dumper_55.root', 'step3_dumper_59.root', 'step3_dumper_61.root', 'step3_dumper_64.root', 'step3_dumper_62.root', 'step3_dumper_66.root', 'step3_dumper_65.root', 'step3_dumper_69.root', 'step3_dumper_70.root', 'step3_dumper_72.root', 'step3_dumper_67.root', 'step3_dumper_71.root', 'step3_dumper_68.root', 'step3_dumper_74.root', 'step3_dumper_76.root', 'step3_dumper_78.root', 'step3_dumper_73.root', 'step3_dumper_75.root', 'step3_dumper_82.root', 'step3_dumper_80.root', 'step3_dumper_83.root', 'step3_dumper_79.root', 'step3_dumper_85.root', 'step3_dumper_84.root', 'step3_dumper_81.root', 'step3_dumper_77.root', 'step3_dumper_86.root', 'step3_dumper_87.root', 'step3_dumper_89.root', 'step3_dumper_91.root', 'step3_dumper_94.root', 'step3_dumper_93.root', 'step3_dumper_95.root', 'step3_dumper_90.root', 'step3_dumper_97.root', 'step3_dumper_92.root', 'step3_dumper_88.root', 'step3_dumper_96.root', 'step3_dumper_99.root', 'step3_dumper_98.root', 'step3_dumper_104.root', 'step3_dumper_103.root', 'step3_dumper_101.root', 'step3_dumper_102.root', 'step3_dumper_100.root', 'step3_dumper_106.root', 'step3_dumper_109.root', 'step3_dumper_107.root', 'step3_dumper_108.root', 'step3_dumper_112.root', 'step3_dumper_105.root', 'step3_dumper_118.root', 'step3_dumper_116.root', 'step3_dumper_115.root', 'step3_dumper_111.root', 'step3_dumper_110.root', 'step3_dumper_121.root', 'step3_dumper_123.root', 'step3_dumper_119.root', 'step3_dumper_113.root', 'step3_dumper_117.root', 'step3_dumper_124.root', 'step3_dumper_114.root', 'step3_dumper_125.root', 'step3_dumper_120.root', 'step3_dumper_127.root', 'step3_dumper_126.root', 'step3_dumper_128.root', 'step3_dumper_130.root', 'step3_dumper_129.root', 'step3_dumper_133.root', 'step3_dumper_131.root', 'step3_dumper_122.root', 'step3_dumper_134.root', 'step3_dumper_139.root', 'step3_dumper_140.root', 'step3_dumper_138.root', 'step3_dumper_135.root', 'step3_dumper_145.root', 'step3_dumper_136.root', 'step3_dumper_132.root', 'step3_dumper_150.root', 'step3_dumper_142.root', 'step3_dumper_144.root', 'step3_dumper_148.root', 'step3_dumper_153.root', 'step3_dumper_152.root', 'step3_dumper_149.root', 'step3_dumper_154.root', 'step3_dumper_137.root', 'step3_dumper_156.root', 'step3_dumper_141.root', 'step3_dumper_151.root', 'step3_dumper_146.root', 'step3_dumper_159.root', 'step3_dumper_155.root', 'step3_dumper_158.root', 'step3_dumper_160.root', 'step3_dumper_143.root', 'step3_dumper_147.root', 'step3_dumper_167.root', 'step3_dumper_157.root', 'step3_dumper_164.root', 'step3_dumper_163.root', 'step3_dumper_169.root', 'step3_dumper_162.root', 'step3_dumper_166.root', 'step3_dumper_177.root', 'step3_dumper_170.root', 'step3_dumper_161.root', 'step3_dumper_168.root', 'step3_dumper_165.root', 'step3_dumper_184.root', 'step3_dumper_172.root', 'step3_dumper_176.root', 'step3_dumper_186.root', 'step3_dumper_173.root', 'step3_dumper_181.root', 'step3_dumper_182.root', 'step3_dumper_179.root', 'step3_dumper_171.root', 'step3_dumper_178.root', 'step3_dumper_174.root', 'step3_dumper_183.root', 'step3_dumper_175.root', 'step3_dumper_195.root', 'step3_dumper_189.root', 'step3_dumper_192.root', 'step3_dumper_180.root', 'step3_dumper_190.root', 'step3_dumper_188.root', 'step3_dumper_193.root', 'step3_dumper_202.root', 'step3_dumper_187.root', 'step3_dumper_194.root', 'step3_dumper_185.root', 'step3_dumper_198.root', 'step3_dumper_196.root', 'step3_dumper_191.root', 'step3_dumper_197.root', 'step3_dumper_199.root', 'step3_dumper_201.root', 'step3_dumper_203.root', 'step3_dumper_205.root', 'step3_dumper_209.root', 'step3_dumper_208.root', 'step3_dumper_200.root', 'step3_dumper_211.root', 'step3_dumper_206.root', 'step3_dumper_215.root', 'step3_dumper_204.root', 'step3_dumper_210.root', 'step3_dumper_207.root', 'step3_dumper_218.root', 'step3_dumper_220.root', 'step3_dumper_214.root', 'step3_dumper_212.root', 'step3_dumper_223.root', 'step3_dumper_221.root', 'step3_dumper_222.root', 'step3_dumper_216.root', 'step3_dumper_213.root', 'step3_dumper_230.root', 'step3_dumper_227.root', 'step3_dumper_217.root', 'step3_dumper_229.root', 'step3_dumper_219.root', 'step3_dumper_226.root', 'step3_dumper_224.root', 'step3_dumper_225.root', 'step3_dumper_233.root', 'step3_dumper_232.root', 'step3_dumper_231.root', 'step3_dumper_240.root', 'step3_dumper_235.root', 'step3_dumper_228.root', 'step3_dumper_236.root', 'step3_dumper_234.root', 'step3_dumper_237.root', 'step3_dumper_238.root', 'step3_dumper_243.root', 'step3_dumper_250.root', 'step3_dumper_249.root', 'step3_dumper_248.root', 'step3_dumper_244.root', 'step3_dumper_241.root', 'step3_dumper_257.root', 'step3_dumper_253.root', 'step3_dumper_245.root', 'step3_dumper_242.root', 'step3_dumper_252.root', 'step3_dumper_239.root', 'step3_dumper_254.root', 'step3_dumper_246.root', 'step3_dumper_255.root', 'step3_dumper_251.root', 'step3_dumper_247.root', 'step3_dumper_269.root', 'step3_dumper_260.root', 'step3_dumper_261.root', 'step3_dumper_267.root', 'step3_dumper_259.root', 'step3_dumper_279.root', 'step3_dumper_264.root', 'step3_dumper_258.root', 'step3_dumper_265.root', 'step3_dumper_256.root', 'step3_dumper_270.root', 'step3_dumper_278.root', 'step3_dumper_268.root', 'step3_dumper_271.root', 'step3_dumper_276.root', 'step3_dumper_274.root', 'step3_dumper_262.root', 'step3_dumper_263.root', 'step3_dumper_282.root', 'step3_dumper_280.root', 'step3_dumper_281.root', 'step3_dumper_275.root', 'step3_dumper_266.root', 'step3_dumper_277.root', 'step3_dumper_286.root', 'step3_dumper_291.root', 'step3_dumper_272.root', 'step3_dumper_283.root', 'step3_dumper_297.root', 'step3_dumper_273.root', 'step3_dumper_285.root', 'step3_dumper_287.root', 'step3_dumper_292.root', 'step3_dumper_294.root', 'step3_dumper_289.root', 'step3_dumper_284.root', 'step3_dumper_299.root', 'step3_dumper_293.root', 'step3_dumper_288.root', 'step3_dumper_295.root', 'step3_dumper_298.root', 'step3_dumper_296.root', 'step3_dumper_290.root', 'step3_dumper_300.root']\n"
     ]
    },
    {
     "name": "stderr",
     "output_type": "stream",
     "text": [
      "300it [1:01:29, 12.30s/it]\n"
     ]
    }
   ],
   "source": [
    "### LOW ENERGY PHOTONS\n",
    "\n",
    "#raw_dir='/grid_mnt/data__data.polcms/cms/tarabini/GENPHOTESTPU2_noSmearing/step3_ticlv4_clue3d_CMSSW_12_4_0_pre2/'\n",
    "#raw_dir=\"/grid_mnt/data__data.polcms/cms/cappati/240419_pions_step3/\" ### PI\n",
    "raw_dir=\"/grid_mnt/data__data.polcms/cms/cappati/240827_photonsD98_2-15GeV_step3/\"\n",
    "output_dir = '/grid_mnt/data__data.polcms/cms/sghosh/NEWPID_TICLDUMPER_DATA/S2Rmin_pho2to15_27092024/'\n",
    "fnamelist = os.listdir(raw_dir)#+'STEP3_*.root'\n",
    "print(fnamelist)\n",
    "\n",
    "for idx, file in tqdm(enumerate(fnamelist)):\n",
    "    try:\n",
    "        #print(raw_dir+file,idx)\n",
    "        analyze(raw_dir+file,idx, 0.6, output_dir) ### PHO\n",
    "        #analyze(raw_dir+file,idx, 0.99) ### PI\n",
    "        #break\n",
    "    except:\n",
    "        print(\"file is invalid, skipping....\")"
   ]
  },
  {
   "cell_type": "code",
   "execution_count": 4,
   "id": "f0087f70",
   "metadata": {
    "scrolled": false
   },
   "outputs": [
    {
     "name": "stdout",
     "output_type": "stream",
     "text": [
      "['step3_dumper_8.root', 'step3_dumper_1.root', 'step3_dumper_5.root', 'step3_dumper_14.root', 'step3_dumper_10.root', 'step3_dumper_2.root', 'step3_dumper_4.root', 'step3_dumper_18.root', 'step3_dumper_6.root', 'step3_dumper_7.root', 'step3_dumper_3.root', 'step3_dumper_17.root', 'step3_dumper_11.root', 'step3_dumper_15.root', 'step3_dumper_24.root', 'step3_dumper_12.root', 'step3_dumper_9.root', 'step3_dumper_28.root', 'step3_dumper_20.root', 'step3_dumper_25.root', 'step3_dumper_16.root', 'step3_dumper_34.root', 'step3_dumper_13.root', 'step3_dumper_29.root', 'step3_dumper_26.root', 'step3_dumper_38.root', 'step3_dumper_19.root', 'step3_dumper_27.root', 'step3_dumper_43.root', 'step3_dumper_37.root', 'step3_dumper_48.root', 'step3_dumper_21.root', 'step3_dumper_23.root', 'step3_dumper_30.root', 'step3_dumper_31.root', 'step3_dumper_45.root', 'step3_dumper_42.root', 'step3_dumper_47.root', 'step3_dumper_41.root', 'step3_dumper_32.root', 'step3_dumper_33.root', 'step3_dumper_36.root', 'step3_dumper_22.root', 'step3_dumper_44.root', 'step3_dumper_39.root', 'step3_dumper_51.root', 'step3_dumper_53.root', 'step3_dumper_58.root', 'step3_dumper_52.root', 'step3_dumper_46.root', 'step3_dumper_35.root', 'step3_dumper_40.root', 'step3_dumper_50.root', 'step3_dumper_59.root', 'step3_dumper_56.root', 'step3_dumper_60.root', 'step3_dumper_57.root', 'step3_dumper_54.root', 'step3_dumper_78.root', 'step3_dumper_68.root', 'step3_dumper_65.root', 'step3_dumper_49.root', 'step3_dumper_55.root', 'step3_dumper_64.root', 'step3_dumper_85.root', 'step3_dumper_63.root', 'step3_dumper_71.root', 'step3_dumper_83.root', 'step3_dumper_75.root', 'step3_dumper_67.root', 'step3_dumper_61.root', 'step3_dumper_70.root', 'step3_dumper_88.root', 'step3_dumper_74.root', 'step3_dumper_66.root', 'step3_dumper_82.root', 'step3_dumper_72.root', 'step3_dumper_80.root', 'step3_dumper_69.root', 'step3_dumper_79.root', 'step3_dumper_90.root', 'step3_dumper_81.root', 'step3_dumper_96.root', 'step3_dumper_77.root', 'step3_dumper_84.root', 'step3_dumper_86.root', 'step3_dumper_62.root', 'step3_dumper_76.root', 'step3_dumper_94.root', 'step3_dumper_98.root', 'step3_dumper_92.root', 'step3_dumper_121.root', 'step3_dumper_87.root', 'step3_dumper_89.root', 'step3_dumper_91.root', 'step3_dumper_97.root', 'step3_dumper_103.root', 'step3_dumper_104.root', 'step3_dumper_73.root', 'step3_dumper_109.root', 'step3_dumper_93.root', 'step3_dumper_101.root', 'step3_dumper_102.root', 'step3_dumper_100.root', 'step3_dumper_99.root', 'step3_dumper_107.root', 'step3_dumper_115.root', 'step3_dumper_116.root', 'step3_dumper_95.root', 'step3_dumper_114.root', 'step3_dumper_113.root', 'step3_dumper_119.root', 'step3_dumper_117.root', 'step3_dumper_123.root', 'step3_dumper_130.root', 'step3_dumper_106.root', 'step3_dumper_118.root', 'step3_dumper_105.root', 'step3_dumper_120.root', 'step3_dumper_108.root', 'step3_dumper_127.root', 'step3_dumper_143.root', 'step3_dumper_122.root', 'step3_dumper_112.root', 'step3_dumper_111.root', 'step3_dumper_110.root', 'step3_dumper_128.root', 'step3_dumper_137.root', 'step3_dumper_125.root', 'step3_dumper_126.root', 'step3_dumper_124.root', 'step3_dumper_146.root', 'step3_dumper_139.root', 'step3_dumper_140.root', 'step3_dumper_145.root', 'step3_dumper_155.root', 'step3_dumper_154.root', 'step3_dumper_131.root', 'step3_dumper_133.root', 'step3_dumper_136.root', 'step3_dumper_163.root', 'step3_dumper_142.root', 'step3_dumper_129.root', 'step3_dumper_141.root', 'step3_dumper_148.root', 'step3_dumper_138.root', 'step3_dumper_135.root', 'step3_dumper_151.root', 'step3_dumper_144.root', 'step3_dumper_147.root', 'step3_dumper_149.root', 'step3_dumper_132.root', 'step3_dumper_150.root', 'step3_dumper_158.root', 'step3_dumper_152.root', 'step3_dumper_159.root', 'step3_dumper_171.root', 'step3_dumper_134.root', 'step3_dumper_170.root', 'step3_dumper_153.root', 'step3_dumper_165.root', 'step3_dumper_160.root', 'step3_dumper_157.root', 'step3_dumper_156.root', 'step3_dumper_164.root', 'step3_dumper_167.root', 'step3_dumper_190.root', 'step3_dumper_187.root', 'step3_dumper_173.root', 'step3_dumper_180.root', 'step3_dumper_177.root', 'step3_dumper_178.root', 'step3_dumper_174.root', 'step3_dumper_166.root', 'step3_dumper_172.root', 'step3_dumper_168.root', 'step3_dumper_194.root', 'step3_dumper_185.root', 'step3_dumper_186.root', 'step3_dumper_198.root', 'step3_dumper_188.root', 'step3_dumper_199.root', 'step3_dumper_203.root', 'step3_dumper_175.root', 'step3_dumper_189.root', 'step3_dumper_176.root', 'step3_dumper_184.root', 'step3_dumper_193.root', 'step3_dumper_181.root', 'step3_dumper_202.root', 'step3_dumper_201.root', 'step3_dumper_197.root', 'step3_dumper_179.root', 'step3_dumper_200.root', 'step3_dumper_204.root', 'step3_dumper_161.root', 'step3_dumper_162.root', 'step3_dumper_169.root', 'step3_dumper_205.root', 'step3_dumper_206.root', 'step3_dumper_183.root', 'step3_dumper_182.root', 'step3_dumper_191.root', 'step3_dumper_207.root', 'step3_dumper_212.root', 'step3_dumper_195.root', 'step3_dumper_196.root', 'step3_dumper_219.root', 'step3_dumper_209.root', 'step3_dumper_192.root', 'step3_dumper_226.root', 'step3_dumper_214.root', 'step3_dumper_213.root', 'step3_dumper_208.root', 'step3_dumper_210.root', 'step3_dumper_217.root', 'step3_dumper_211.root', 'step3_dumper_216.root', 'step3_dumper_222.root', 'step3_dumper_218.root', 'step3_dumper_221.root', 'step3_dumper_232.root', 'step3_dumper_215.root', 'step3_dumper_244.root', 'step3_dumper_245.root', 'step3_dumper_220.root', 'step3_dumper_224.root', 'step3_dumper_238.root', 'step3_dumper_235.root', 'step3_dumper_231.root', 'step3_dumper_225.root', 'step3_dumper_241.root', 'step3_dumper_223.root', 'step3_dumper_249.root', 'step3_dumper_227.root', 'step3_dumper_242.root', 'step3_dumper_256.root', 'step3_dumper_257.root', 'step3_dumper_228.root', 'step3_dumper_240.root', 'step3_dumper_234.root', 'step3_dumper_253.root', 'step3_dumper_250.root', 'step3_dumper_251.root', 'step3_dumper_230.root', 'step3_dumper_254.root', 'step3_dumper_266.root', 'step3_dumper_233.root', 'step3_dumper_269.root', 'step3_dumper_239.root', 'step3_dumper_237.root', 'step3_dumper_229.root', 'step3_dumper_246.root', 'step3_dumper_273.root', 'step3_dumper_267.root', 'step3_dumper_264.root', 'step3_dumper_272.root', 'step3_dumper_248.root', 'step3_dumper_243.root', 'step3_dumper_265.root', 'step3_dumper_275.root', 'step3_dumper_263.root', 'step3_dumper_247.root', 'step3_dumper_276.root', 'step3_dumper_262.root', 'step3_dumper_252.root', 'step3_dumper_236.root', 'step3_dumper_277.root', 'step3_dumper_271.root', 'step3_dumper_270.root', 'step3_dumper_255.root', 'step3_dumper_261.root', 'step3_dumper_268.root', 'step3_dumper_285.root', 'step3_dumper_286.root', 'step3_dumper_259.root', 'step3_dumper_279.root', 'step3_dumper_260.root', 'step3_dumper_290.root', 'step3_dumper_299.root', 'step3_dumper_280.root', 'step3_dumper_300.root', 'step3_dumper_305.root', 'step3_dumper_281.root', 'step3_dumper_274.root', 'step3_dumper_313.root', 'step3_dumper_312.root', 'step3_dumper_292.root', 'step3_dumper_282.root', 'step3_dumper_306.root', 'step3_dumper_258.root', 'step3_dumper_307.root', 'step3_dumper_283.root', 'step3_dumper_294.root', 'step3_dumper_311.root', 'step3_dumper_278.root', 'step3_dumper_324.root', 'step3_dumper_315.root', 'step3_dumper_291.root', 'step3_dumper_325.root', 'step3_dumper_287.root', 'step3_dumper_288.root', 'step3_dumper_295.root', 'step3_dumper_310.root', 'step3_dumper_304.root', 'step3_dumper_293.root', 'step3_dumper_336.root', 'step3_dumper_331.root', 'step3_dumper_308.root', 'step3_dumper_333.root', 'step3_dumper_297.root', 'step3_dumper_298.root', 'step3_dumper_337.root', 'step3_dumper_332.root', 'step3_dumper_319.root', 'step3_dumper_302.root', 'step3_dumper_334.root', 'step3_dumper_322.root', 'step3_dumper_314.root', 'step3_dumper_301.root', 'step3_dumper_318.root', 'step3_dumper_284.root', 'step3_dumper_321.root', 'step3_dumper_328.root', 'step3_dumper_296.root', 'step3_dumper_303.root', 'step3_dumper_316.root', 'step3_dumper_323.root', 'step3_dumper_345.root', 'step3_dumper_329.root', 'step3_dumper_289.root', 'step3_dumper_342.root', 'step3_dumper_317.root', 'step3_dumper_320.root', 'step3_dumper_340.root', 'step3_dumper_326.root', 'step3_dumper_327.root', 'step3_dumper_351.root', 'step3_dumper_339.root', 'step3_dumper_343.root', 'step3_dumper_335.root', 'step3_dumper_309.root', 'step3_dumper_330.root', 'step3_dumper_360.root', 'step3_dumper_354.root', 'step3_dumper_350.root', 'step3_dumper_338.root', 'step3_dumper_341.root', 'step3_dumper_355.root', 'step3_dumper_344.root', 'step3_dumper_353.root', 'step3_dumper_346.root', 'step3_dumper_365.root', 'step3_dumper_366.root', 'step3_dumper_352.root', 'step3_dumper_356.root', 'step3_dumper_370.root', 'step3_dumper_357.root', 'step3_dumper_369.root', 'step3_dumper_373.root', 'step3_dumper_347.root', 'step3_dumper_364.root', 'step3_dumper_349.root', 'step3_dumper_358.root', 'step3_dumper_348.root', 'step3_dumper_359.root', 'step3_dumper_372.root', 'step3_dumper_362.root', 'step3_dumper_376.root', 'step3_dumper_361.root', 'step3_dumper_377.root', 'step3_dumper_383.root', 'step3_dumper_392.root', 'step3_dumper_388.root', 'step3_dumper_371.root', 'step3_dumper_378.root', 'step3_dumper_380.root', 'step3_dumper_395.root', 'step3_dumper_396.root', 'step3_dumper_363.root', 'step3_dumper_379.root', 'step3_dumper_401.root', 'step3_dumper_381.root', 'step3_dumper_367.root', 'step3_dumper_368.root', 'step3_dumper_375.root', 'step3_dumper_384.root', 'step3_dumper_394.root', 'step3_dumper_374.root', 'step3_dumper_398.root', 'step3_dumper_382.root', 'step3_dumper_385.root', 'step3_dumper_389.root', 'step3_dumper_386.root', 'step3_dumper_391.root', 'step3_dumper_390.root', 'step3_dumper_400.root', 'step3_dumper_393.root', 'step3_dumper_387.root', 'step3_dumper_397.root', 'step3_dumper_403.root', 'step3_dumper_402.root', 'step3_dumper_407.root', 'step3_dumper_405.root', 'step3_dumper_408.root', 'step3_dumper_399.root', 'step3_dumper_406.root', 'step3_dumper_409.root', 'step3_dumper_410.root', 'step3_dumper_404.root', 'step3_dumper_413.root', 'step3_dumper_414.root', 'step3_dumper_411.root', 'step3_dumper_412.root', 'step3_dumper_416.root', 'step3_dumper_422.root', 'step3_dumper_417.root', 'step3_dumper_419.root', 'step3_dumper_424.root', 'step3_dumper_415.root', 'step3_dumper_421.root', 'step3_dumper_420.root', 'step3_dumper_418.root', 'step3_dumper_426.root', 'step3_dumper_425.root', 'step3_dumper_429.root', 'step3_dumper_433.root', 'step3_dumper_434.root', 'step3_dumper_452.root', 'step3_dumper_430.root', 'step3_dumper_423.root', 'step3_dumper_449.root', 'step3_dumper_431.root', 'step3_dumper_448.root', 'step3_dumper_447.root', 'step3_dumper_451.root', 'step3_dumper_432.root', 'step3_dumper_438.root', 'step3_dumper_435.root', 'step3_dumper_450.root', 'step3_dumper_439.root', 'step3_dumper_442.root', 'step3_dumper_441.root', 'step3_dumper_454.root', 'step3_dumper_440.root', 'step3_dumper_427.root', 'step3_dumper_428.root', 'step3_dumper_444.root', 'step3_dumper_446.root', 'step3_dumper_456.root', 'step3_dumper_460.root', 'step3_dumper_436.root', 'step3_dumper_445.root', 'step3_dumper_463.root', 'step3_dumper_457.root', 'step3_dumper_459.root', 'step3_dumper_458.root', 'step3_dumper_464.root', 'step3_dumper_466.root', 'step3_dumper_461.root', 'step3_dumper_437.root', 'step3_dumper_462.root', 'step3_dumper_453.root', 'step3_dumper_467.root', 'step3_dumper_469.root', 'step3_dumper_465.root', 'step3_dumper_443.root', 'step3_dumper_468.root', 'step3_dumper_471.root', 'step3_dumper_470.root', 'step3_dumper_475.root', 'step3_dumper_476.root', 'step3_dumper_477.root', 'step3_dumper_455.root', 'step3_dumper_473.root', 'step3_dumper_472.root', 'step3_dumper_479.root', 'step3_dumper_474.root', 'step3_dumper_478.root', 'step3_dumper_481.root', 'step3_dumper_480.root', 'step3_dumper_483.root', 'step3_dumper_484.root', 'step3_dumper_482.root', 'step3_dumper_487.root', 'step3_dumper_489.root', 'step3_dumper_485.root', 'step3_dumper_488.root', 'step3_dumper_486.root', 'step3_dumper_490.root', 'step3_dumper_491.root', 'step3_dumper_492.root', 'step3_dumper_493.root', 'step3_dumper_495.root', 'step3_dumper_494.root', 'step3_dumper_496.root', 'step3_dumper_499.root', 'step3_dumper_498.root', 'step3_dumper_497.root', 'step3_dumper_500.root']\n"
     ]
    },
    {
     "name": "stderr",
     "output_type": "stream",
     "text": [
      "500it [1:45:20, 12.64s/it]\n"
     ]
    }
   ],
   "source": [
    "#raw_dir='/grid_mnt/data__data.polcms/cms/tarabini/GENPHOTESTPU2_noSmearing/step3_ticlv4_clue3d_CMSSW_12_4_0_pre2/'\n",
    "#raw_dir=\"/grid_mnt/data__data.polcms/cms/cappati/240419_pions_step3/\" ### PI\n",
    "raw_dir=\"/grid_mnt/data__data.polcms/cms/cappati/240517_photonsD98_step3/\"\n",
    "output_dir = '/grid_mnt/data__data.polcms/cms/sghosh/NEWPID_TICLDUMPER_DATA/S2Rmin_pho_30072024/'\n",
    "fnamelist = os.listdir(raw_dir)#+'STEP3_*.root'\n",
    "print(fnamelist)\n",
    "\n",
    "for idx, file in tqdm(enumerate(fnamelist)):\n",
    "    try:\n",
    "        #print(raw_dir+file,idx)\n",
    "        analyze(raw_dir+file,idx, 0.6, output_dir) ### PHO\n",
    "        #analyze(raw_dir+file,idx, 0.99) ### PI\n",
    "        #break\n",
    "    except:\n",
    "        print(\"file is invalid, skipping....\")"
   ]
  }
 ],
 "metadata": {
  "kernelspec": {
   "display_name": "torchtest3p8",
   "language": "python",
   "name": "torchtest3p8"
  },
  "language_info": {
   "codemirror_mode": {
    "name": "ipython",
    "version": 3
   },
   "file_extension": ".py",
   "mimetype": "text/x-python",
   "name": "python",
   "nbconvert_exporter": "python",
   "pygments_lexer": "ipython3",
   "version": "3.8.16"
  }
 },
 "nbformat": 4,
 "nbformat_minor": 5
}
