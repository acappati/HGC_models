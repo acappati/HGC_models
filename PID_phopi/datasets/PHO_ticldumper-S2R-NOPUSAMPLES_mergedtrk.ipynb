{
 "cells": [
  {
   "cell_type": "code",
   "execution_count": 60,
   "id": "978ae1a3",
   "metadata": {},
   "outputs": [
    {
     "data": {
      "text/html": [
       "<style>.container { width:98% !important; }</style>"
      ],
      "text/plain": [
       "<IPython.core.display.HTML object>"
      ]
     },
     "metadata": {},
     "output_type": "display_data"
    }
   ],
   "source": [
    "from IPython.display import display, HTML\n",
    "display(HTML(\"<style>.container { width:98% !important; }</style>\"))"
   ]
  },
  {
   "cell_type": "code",
   "execution_count": 61,
   "id": "8e6385cb",
   "metadata": {},
   "outputs": [],
   "source": [
    "import uproot\n",
    "import numpy as np\n",
    "from tqdm import tqdm as tqdm\n",
    "import matplotlib.pyplot as plt\n",
    "import os\n",
    "import optparse\n",
    "import os.path as osp\n",
    "import awkward as ak\n",
    "import math\n",
    "import torch_geometric\n",
    "import torch\n",
    "import sys\n",
    "#import pandas as pd\n",
    "from torch_geometric.data import Data\n",
    "import glob"
   ]
  },
  {
   "cell_type": "code",
   "execution_count": 86,
   "id": "96f566ab",
   "metadata": {},
   "outputs": [],
   "source": [
    "# filename = \"/grid_mnt/data__data.polcms/cms/sghosh/PIDREGDATA_CERN/CloseByPhoton_v5/histo/histo_3490989_0.root\"\n",
    "\n",
    "# filein = uproot.open(filename)[\"ticlDumper\"]\n",
    "        \n",
    "        \n",
    "        \n",
    "# clusters = filein[\"clusters\"].arrays()\n",
    "# clusters = clusters[[x for x in ak.fields(clusters) if x not in [\"run_\",\"luminosityBlock_\",\"event_\"]]]\n",
    "# tracksters = filein[\"trackstersMerged\"].arrays()\n",
    "# associations = filein[\"associations\"].arrays()\n",
    "# simtrackstersCP = filein[\"simtrackstersCP\"].arrays()\n",
    "# associations"
   ]
  },
  {
   "cell_type": "code",
   "execution_count": 88,
   "id": "2394ef8b",
   "metadata": {},
   "outputs": [],
   "source": [
    "def analyze(filename,nfile,threshold, output_dir):\n",
    "\n",
    "\n",
    "\n",
    "        filein = uproot.open(filename)[\"ticlDumper\"]\n",
    "        \n",
    "        \n",
    "        \n",
    "        clusters = filein[\"clusters\"].arrays()\n",
    "        clusters = clusters[[x for x in ak.fields(clusters) if x not in [\"run_\",\"luminosityBlock_\",\"event_\"]]]\n",
    "        tracksters = filein[\"trackstersMerged\"].arrays()\n",
    "        associations = filein[\"associations\"].arrays()\n",
    "        simtrackstersCP = filein[\"simtrackstersCP\"].arrays()\n",
    "\n",
    "        ## flatten to get better shapes\n",
    "        simToReco_CP = ak.flatten(associations.Mergetracksters_simToReco_CP)\n",
    "        simToReco_CP_score = ak.flatten(associations.Mergetracksters_simToReco_CP_score)\n",
    "\n",
    "        ## choose the one with best score | best for closeby photons/electrons \n",
    "        minsimscore_idxs = ak.argmin(simToReco_CP_score,axis=-1,keepdims=True )\n",
    "\n",
    "\n",
    "        ## get corrsp trkster idxs\n",
    "        matchtrk_idxs = simToReco_CP[minsimscore_idxs]\n",
    "\n",
    "        tracksters.raw_energy[matchtrk_idxs]\n",
    "\n",
    "        ratio_trksim = tracksters.raw_em_energy[matchtrk_idxs]/simtrackstersCP.raw_em_energy\n",
    "        ratio_trksimtot = tracksters.raw_energy[matchtrk_idxs]/simtrackstersCP.raw_energy\n",
    "        #ratio_trksim = ratio_trksim.to_numpy()\n",
    "\n",
    "        #sel_clusters = clusters[tracksters.vertices_indexes[matchtrk_idxs]]\n",
    "        ncalop = len(simtrackstersCP)\n",
    "\n",
    "\n",
    "\n",
    "        listoftensors = []\n",
    "        ##maskcalo = ak.argmin(sel_simmatch_scr[sel_simmatch_idxs == 0],axis=1,keepdims=True)\n",
    "        for calop in range(ncalop):\n",
    "            ntrks = len(tracksters.raw_energy[matchtrk_idxs][calop])\n",
    "            if ntrks < 1:\n",
    "                #print(ntrk)\n",
    "                continue\n",
    "            \n",
    "            if ak.is_none(matchtrk_idxs[calop]):\n",
    "                #print(\"was isnone skipped\")\n",
    "                continue\n",
    "            \n",
    "            #print(ntrks)\n",
    "            for ntrk in range(ntrks):\n",
    "                \n",
    "                \n",
    "                \n",
    "                gun_feats = np.stack((simtrackstersCP.boundaryEta[calop],\n",
    "                                      simtrackstersCP.boundaryPhi[calop],\n",
    "                                      simtrackstersCP.raw_em_energy[calop],\n",
    "                                      simtrackstersCP.raw_energy[calop],\n",
    "                                      ratio_trksim[calop],\n",
    "                                      ratio_trksimtot[calop],\n",
    "                                      simToReco_CP_score[minsimscore_idxs][calop])).to_numpy().data.T\n",
    "\n",
    "                #print(gun_feats.shape)\n",
    "                #print(gun_feats[:,3])\n",
    "\n",
    "                clus2d_feats = np.stack((ak.to_numpy(clusters.position_x[calop][ak.flatten(tracksters.vertices_indexes[matchtrk_idxs][calop][ntrk], axis=-1)]),\n",
    "                                 ak.to_numpy(clusters.position_y[calop][ak.flatten(tracksters.vertices_indexes[matchtrk_idxs][calop][ntrk], axis=-1)]),\n",
    "                                 ak.to_numpy(clusters.position_z[calop][ak.flatten(tracksters.vertices_indexes[matchtrk_idxs][calop][ntrk], axis=-1)]),\n",
    "                                 ak.to_numpy(clusters.energy[calop][ak.flatten(tracksters.vertices_indexes[matchtrk_idxs][calop][ntrk], axis=-1)]),\n",
    "                                 ak.to_numpy(clusters.cluster_time[calop][ak.flatten(tracksters.vertices_indexes[matchtrk_idxs][calop][ntrk], axis=-1)]),\n",
    "                                 ak.to_numpy(clusters.cluster_layer_id[calop][ak.flatten(tracksters.vertices_indexes[matchtrk_idxs][calop][ntrk], axis=-1)]))).T\n",
    "\n",
    "\n",
    "                #print(clus2d_feats.shape)\n",
    "                #print(np.sum(clus2d_feats[:,3]))\n",
    "\n",
    "\n",
    "                clus3d_feats = np.stack((tracksters.barycenter_eta[matchtrk_idxs][calop][ntrk],\n",
    "                                         tracksters.barycenter_phi[matchtrk_idxs][calop][ntrk],\n",
    "                                         tracksters.raw_em_energy[matchtrk_idxs][calop][ntrk],\n",
    "                                         tracksters.raw_energy[matchtrk_idxs][calop][ntrk],\n",
    "                                         min(ak.to_numpy(clusters.cluster_layer_id[calop][ak.flatten(tracksters.vertices_indexes[matchtrk_idxs][calop][ntrk], axis=-1)])),\n",
    "                                         max(ak.to_numpy(clusters.cluster_layer_id[calop][ak.flatten(tracksters.vertices_indexes[matchtrk_idxs][calop][ntrk], axis=-1)])),\n",
    "                                         tracksters.barycenter_x[matchtrk_idxs][calop][ntrk],\n",
    "                                         tracksters.barycenter_y[matchtrk_idxs][calop][ntrk],\n",
    "                                         tracksters.barycenter_z[matchtrk_idxs][calop][ntrk],\n",
    "                                        )).T\n",
    "\n",
    "\n",
    "                #print(clus3d_feats.shape)\n",
    "                #print(clus3d_feats[3])\n",
    "\n",
    "\n",
    "                datum = Data(clus2d_feat = torch.tensor(clus2d_feats, dtype=torch.float32),\n",
    "                            clus3d_feat = torch.tensor(clus3d_feats, dtype=torch.float32),\n",
    "                            gun_feat = torch.tensor(gun_feats, dtype=torch.float32))\n",
    "\n",
    "                listoftensors.append(datum)\n",
    "                    \n",
    "                    \n",
    "\n",
    "        processed_dir = output_dir #'/grid_mnt/data__data.polcms/cms/sghosh/NEWPID_DATA/PHO/' ## PHO\n",
    "        import os\n",
    "        import os.path as osp\n",
    "        if not os.path.exists(processed_dir):\n",
    "            os.makedirs(processed_dir)\n",
    "\n",
    "\n",
    "        #torch.save(listoftensors, osp.join(processed_dir, 'data_{}_{}_{}_{}.pt'.format(nfile,evt,ngun,trkidx)))\n",
    "        torch.save(listoftensors, osp.join(processed_dir, 'data_{}.pt'.format(nfile)))\n",
    "        #print(\"skipped events:\",nsskip)\n",
    "        #print(\"average #tracksters:\",np.mean(ntrkster))\n",
    "        return 0"
   ]
  },
  {
   "cell_type": "code",
   "execution_count": 89,
   "id": "f0087f70",
   "metadata": {
    "scrolled": false
   },
   "outputs": [
    {
     "name": "stdout",
     "output_type": "stream",
     "text": [
      "['histo_3490989_0.root', 'histo_3490989_1.root', 'histo_3490989_10.root', 'histo_3490989_100.root', 'histo_3490989_101.root', 'histo_3490989_102.root', 'histo_3490989_103.root', 'histo_3490989_104.root', 'histo_3490989_105.root', 'histo_3490989_106.root', 'histo_3490989_107.root', 'histo_3490989_108.root', 'histo_3490989_11.root', 'histo_3490989_111.root', 'histo_3490989_117.root', 'histo_3490989_12.root', 'histo_3490989_13.root', 'histo_3490989_14.root', 'histo_3490989_15.root', 'histo_3490989_16.root', 'histo_3490989_17.root', 'histo_3490989_18.root', 'histo_3490989_19.root', 'histo_3490989_2.root', 'histo_3490989_24.root', 'histo_3490989_3.root', 'histo_3490989_34.root', 'histo_3490989_35.root', 'histo_3490989_36.root', 'histo_3490989_39.root', 'histo_3490989_4.root', 'histo_3490989_42.root', 'histo_3490989_45.root', 'histo_3490989_47.root', 'histo_3490989_49.root', 'histo_3490989_5.root', 'histo_3490989_56.root', 'histo_3490989_6.root', 'histo_3490989_60.root', 'histo_3490989_62.root', 'histo_3490989_64.root', 'histo_3490989_67.root', 'histo_3490989_7.root', 'histo_3490989_71.root', 'histo_3490989_72.root', 'histo_3490989_73.root', 'histo_3490989_74.root', 'histo_3490989_75.root', 'histo_3490989_8.root', 'histo_3490989_80.root', 'histo_3490989_81.root', 'histo_3490989_82.root', 'histo_3490989_83.root', 'histo_3490989_84.root', 'histo_3490989_85.root', 'histo_3490989_86.root', 'histo_3490989_87.root', 'histo_3490989_89.root', 'histo_3490989_9.root', 'histo_3490989_91.root', 'histo_3490989_92.root', 'histo_3490989_93.root', 'histo_3490989_94.root', 'histo_3490989_95.root', 'histo_3490989_96.root', 'histo_3490989_97.root', 'histo_3490989_98.root', 'histo_3490989_99.root']\n"
     ]
    },
    {
     "name": "stderr",
     "output_type": "stream",
     "text": [
      "68it [18:01, 15.90s/it]\n"
     ]
    }
   ],
   "source": [
    "#raw_dir='/grid_mnt/data__data.polcms/cms/tarabini/GENPHOTESTPU2_noSmearing/step3_ticlv4_clue3d_CMSSW_12_4_0_pre2/'\n",
    "#raw_dir=\"/grid_mnt/data__data.polcms/cms/cappati/240419_pions_step3/\" ### PI\n",
    "#raw_dir=\"/grid_mnt/data__data.polcms/cms/cappati/240517_photonsD98_step3/\"\n",
    "raw_dir=\"/grid_mnt/data__data.polcms/cms/sghosh/PIDREGDATA_CERN/CloseByPhoton_v5/histo/\"\n",
    "output_dir = '/grid_mnt/data__data.polcms/cms/sghosh/PIDREGDATA_CERN_PROCESSED/CloseByPhoton_07082024'\n",
    "fnamelist = os.listdir(raw_dir)#+'STEP3_*.root'\n",
    "print(fnamelist)\n",
    "\n",
    "for idx, file in tqdm(enumerate(fnamelist)):\n",
    "    try:\n",
    "        #print(raw_dir+file,idx)\n",
    "        analyze(raw_dir+file,idx, 0.6, output_dir) ### PHO\n",
    "        #analyze(raw_dir+file,idx, 0.99) ### PI\n",
    "        #break\n",
    "    except:\n",
    "        print(\"file is invalid, skipping....\")"
   ]
  },
  {
   "cell_type": "code",
   "execution_count": 90,
   "id": "bc8d9dad",
   "metadata": {},
   "outputs": [
    {
     "name": "stdout",
     "output_type": "stream",
     "text": [
      "['histo_3490988_0.root', 'histo_3490988_1.root', 'histo_3490988_10.root', 'histo_3490988_100.root', 'histo_3490988_101.root', 'histo_3490988_102.root', 'histo_3490988_103.root', 'histo_3490988_104.root', 'histo_3490988_105.root', 'histo_3490988_107.root', 'histo_3490988_108.root', 'histo_3490988_109.root', 'histo_3490988_11.root', 'histo_3490988_110.root', 'histo_3490988_111.root', 'histo_3490988_112.root', 'histo_3490988_113.root', 'histo_3490988_114.root', 'histo_3490988_115.root', 'histo_3490988_116.root', 'histo_3490988_117.root', 'histo_3490988_118.root', 'histo_3490988_119.root', 'histo_3490988_12.root', 'histo_3490988_13.root', 'histo_3490988_14.root', 'histo_3490988_15.root', 'histo_3490988_16.root', 'histo_3490988_17.root', 'histo_3490988_18.root', 'histo_3490988_19.root', 'histo_3490988_2.root', 'histo_3490988_21.root', 'histo_3490988_22.root', 'histo_3490988_23.root', 'histo_3490988_24.root', 'histo_3490988_25.root', 'histo_3490988_3.root', 'histo_3490988_30.root', 'histo_3490988_31.root', 'histo_3490988_32.root', 'histo_3490988_33.root', 'histo_3490988_35.root', 'histo_3490988_38.root', 'histo_3490988_4.root', 'histo_3490988_45.root', 'histo_3490988_47.root', 'histo_3490988_5.root', 'histo_3490988_6.root', 'histo_3490988_7.root', 'histo_3490988_77.root', 'histo_3490988_78.root', 'histo_3490988_79.root', 'histo_3490988_8.root', 'histo_3490988_80.root', 'histo_3490988_81.root', 'histo_3490988_82.root', 'histo_3490988_83.root', 'histo_3490988_84.root', 'histo_3490988_85.root', 'histo_3490988_86.root', 'histo_3490988_87.root', 'histo_3490988_88.root', 'histo_3490988_89.root', 'histo_3490988_9.root', 'histo_3490988_98.root', 'histo_3490988_99.root']\n"
     ]
    },
    {
     "name": "stderr",
     "output_type": "stream",
     "text": [
      "67it [17:38, 15.80s/it]\n"
     ]
    }
   ],
   "source": [
    "#raw_dir='/grid_mnt/data__data.polcms/cms/tarabini/GENPHOTESTPU2_noSmearing/step3_ticlv4_clue3d_CMSSW_12_4_0_pre2/'\n",
    "#raw_dir=\"/grid_mnt/data__data.polcms/cms/cappati/240419_pions_step3/\" ### PI\n",
    "#raw_dir=\"/grid_mnt/data__data.polcms/cms/cappati/240517_photonsD98_step3/\"\n",
    "raw_dir=\"/grid_mnt/data__data.polcms/cms/sghosh/PIDREGDATA_CERN/CloseByElectron_v5/histo/\"\n",
    "output_dir = '/grid_mnt/data__data.polcms/cms/sghosh/PIDREGDATA_CERN_PROCESSED/CloseByElectron_07082024'\n",
    "fnamelist = os.listdir(raw_dir)#+'STEP3_*.root'\n",
    "print(fnamelist)\n",
    "\n",
    "for idx, file in tqdm(enumerate(fnamelist)):\n",
    "    try:\n",
    "        #print(raw_dir+file,idx)\n",
    "        analyze(raw_dir+file,idx, 0.6, output_dir) ### PHO\n",
    "        #analyze(raw_dir+file,idx, 0.99) ### PI\n",
    "        #break\n",
    "    except:\n",
    "        print(\"file is invalid, skipping....\")"
   ]
  },
  {
   "cell_type": "code",
   "execution_count": 91,
   "id": "de90db6a",
   "metadata": {},
   "outputs": [
    {
     "name": "stdout",
     "output_type": "stream",
     "text": [
      "['histo_3490987_0.root', 'histo_3490987_1.root', 'histo_3490987_10.root', 'histo_3490987_100.root', 'histo_3490987_101.root', 'histo_3490987_102.root', 'histo_3490987_103.root', 'histo_3490987_105.root', 'histo_3490987_106.root', 'histo_3490987_107.root', 'histo_3490987_108.root', 'histo_3490987_109.root', 'histo_3490987_110.root', 'histo_3490987_112.root', 'histo_3490987_113.root', 'histo_3490987_114.root', 'histo_3490987_115.root', 'histo_3490987_116.root', 'histo_3490987_117.root', 'histo_3490987_118.root', 'histo_3490987_119.root', 'histo_3490987_12.root', 'histo_3490987_13.root', 'histo_3490987_14.root', 'histo_3490987_15.root', 'histo_3490987_16.root', 'histo_3490987_17.root', 'histo_3490987_18.root', 'histo_3490987_19.root', 'histo_3490987_2.root', 'histo_3490987_20.root', 'histo_3490987_21.root', 'histo_3490987_22.root', 'histo_3490987_24.root', 'histo_3490987_25.root', 'histo_3490987_26.root', 'histo_3490987_27.root', 'histo_3490987_28.root', 'histo_3490987_29.root', 'histo_3490987_30.root', 'histo_3490987_31.root', 'histo_3490987_32.root', 'histo_3490987_33.root', 'histo_3490987_34.root', 'histo_3490987_35.root', 'histo_3490987_36.root', 'histo_3490987_37.root', 'histo_3490987_38.root', 'histo_3490987_39.root', 'histo_3490987_4.root', 'histo_3490987_40.root', 'histo_3490987_41.root', 'histo_3490987_42.root', 'histo_3490987_43.root', 'histo_3490987_44.root', 'histo_3490987_46.root', 'histo_3490987_47.root', 'histo_3490987_48.root', 'histo_3490987_49.root', 'histo_3490987_5.root', 'histo_3490987_50.root', 'histo_3490987_51.root', 'histo_3490987_52.root', 'histo_3490987_53.root', 'histo_3490987_54.root', 'histo_3490987_55.root', 'histo_3490987_56.root', 'histo_3490987_57.root', 'histo_3490987_58.root', 'histo_3490987_6.root', 'histo_3490987_60.root', 'histo_3490987_61.root', 'histo_3490987_62.root', 'histo_3490987_63.root', 'histo_3490987_64.root', 'histo_3490987_65.root', 'histo_3490987_66.root', 'histo_3490987_67.root', 'histo_3490987_68.root', 'histo_3490987_69.root', 'histo_3490987_7.root', 'histo_3490987_70.root', 'histo_3490987_71.root', 'histo_3490987_72.root', 'histo_3490987_73.root', 'histo_3490987_74.root', 'histo_3490987_75.root', 'histo_3490987_76.root', 'histo_3490987_78.root', 'histo_3490987_79.root', 'histo_3490987_8.root', 'histo_3490987_80.root', 'histo_3490987_81.root', 'histo_3490987_83.root', 'histo_3490987_84.root', 'histo_3490987_85.root', 'histo_3490987_86.root', 'histo_3490987_87.root', 'histo_3490987_88.root', 'histo_3490987_89.root', 'histo_3490987_9.root', 'histo_3490987_90.root', 'histo_3490987_91.root', 'histo_3490987_92.root', 'histo_3490987_93.root', 'histo_3490987_94.root', 'histo_3490987_95.root', 'histo_3490987_96.root', 'histo_3490987_97.root', 'histo_3490987_98.root', 'histo_3490987_99.root']\n"
     ]
    },
    {
     "name": "stderr",
     "output_type": "stream",
     "text": [
      "24it [06:09, 11.51s/it]"
     ]
    },
    {
     "name": "stdout",
     "output_type": "stream",
     "text": [
      "file is invalid, skipping....\n"
     ]
    },
    {
     "name": "stderr",
     "output_type": "stream",
     "text": [
      "35it [08:50, 11.41s/it]"
     ]
    },
    {
     "name": "stdout",
     "output_type": "stream",
     "text": [
      "file is invalid, skipping....\n"
     ]
    },
    {
     "name": "stderr",
     "output_type": "stream",
     "text": [
      "38it [09:24, 10.03s/it]"
     ]
    },
    {
     "name": "stdout",
     "output_type": "stream",
     "text": [
      "file is invalid, skipping....\n"
     ]
    },
    {
     "name": "stderr",
     "output_type": "stream",
     "text": [
      "48it [11:47, 11.19s/it]"
     ]
    },
    {
     "name": "stdout",
     "output_type": "stream",
     "text": [
      "file is invalid, skipping....\n"
     ]
    },
    {
     "name": "stderr",
     "output_type": "stream",
     "text": [
      "76it [19:02, 11.62s/it]"
     ]
    },
    {
     "name": "stdout",
     "output_type": "stream",
     "text": [
      "file is invalid, skipping....\n"
     ]
    },
    {
     "name": "stderr",
     "output_type": "stream",
     "text": [
      "111it [28:22, 15.34s/it]\n"
     ]
    }
   ],
   "source": [
    "#raw_dir='/grid_mnt/data__data.polcms/cms/tarabini/GENPHOTESTPU2_noSmearing/step3_ticlv4_clue3d_CMSSW_12_4_0_pre2/'\n",
    "#raw_dir=\"/grid_mnt/data__data.polcms/cms/cappati/240419_pions_step3/\" ### PI\n",
    "#raw_dir=\"/grid_mnt/data__data.polcms/cms/cappati/240517_photonsD98_step3/\"\n",
    "raw_dir=\"/grid_mnt/data__data.polcms/cms/sghosh/PIDREGDATA_CERN/CloseByKaon_v5/histo/\"\n",
    "output_dir = '/grid_mnt/data__data.polcms/cms/sghosh/PIDREGDATA_CERN_PROCESSED/CloseByKaon_07082024'\n",
    "fnamelist = os.listdir(raw_dir)#+'STEP3_*.root'\n",
    "print(fnamelist)\n",
    "\n",
    "for idx, file in tqdm(enumerate(fnamelist)):\n",
    "    try:\n",
    "        #print(raw_dir+file,idx)\n",
    "        analyze(raw_dir+file,idx, 0.6, output_dir) ### PHO\n",
    "        #analyze(raw_dir+file,idx, 0.99) ### PI\n",
    "        #break\n",
    "    except:\n",
    "        print(\"file is invalid, skipping....\")"
   ]
  },
  {
   "cell_type": "code",
   "execution_count": null,
   "id": "780ed511",
   "metadata": {},
   "outputs": [
    {
     "name": "stdout",
     "output_type": "stream",
     "text": [
      "['histo_3490990_0.root', 'histo_3490990_1.root', 'histo_3490990_10.root', 'histo_3490990_100.root', 'histo_3490990_101.root', 'histo_3490990_102.root', 'histo_3490990_103.root', 'histo_3490990_105.root', 'histo_3490990_107.root', 'histo_3490990_108.root', 'histo_3490990_109.root', 'histo_3490990_11.root', 'histo_3490990_110.root', 'histo_3490990_111.root', 'histo_3490990_112.root', 'histo_3490990_113.root', 'histo_3490990_114.root', 'histo_3490990_115.root', 'histo_3490990_116.root', 'histo_3490990_117.root', 'histo_3490990_118.root', 'histo_3490990_119.root', 'histo_3490990_12.root', 'histo_3490990_13.root', 'histo_3490990_15.root', 'histo_3490990_16.root', 'histo_3490990_17.root', 'histo_3490990_18.root', 'histo_3490990_19.root', 'histo_3490990_20.root', 'histo_3490990_21.root', 'histo_3490990_22.root', 'histo_3490990_23.root', 'histo_3490990_24.root', 'histo_3490990_25.root', 'histo_3490990_26.root', 'histo_3490990_27.root', 'histo_3490990_28.root', 'histo_3490990_29.root', 'histo_3490990_30.root', 'histo_3490990_31.root', 'histo_3490990_32.root', 'histo_3490990_33.root', 'histo_3490990_34.root', 'histo_3490990_35.root', 'histo_3490990_36.root', 'histo_3490990_37.root', 'histo_3490990_38.root', 'histo_3490990_39.root', 'histo_3490990_40.root', 'histo_3490990_41.root', 'histo_3490990_42.root', 'histo_3490990_43.root', 'histo_3490990_47.root', 'histo_3490990_48.root', 'histo_3490990_49.root', 'histo_3490990_50.root', 'histo_3490990_51.root', 'histo_3490990_52.root', 'histo_3490990_53.root', 'histo_3490990_54.root', 'histo_3490990_55.root', 'histo_3490990_56.root', 'histo_3490990_57.root', 'histo_3490990_58.root', 'histo_3490990_59.root', 'histo_3490990_60.root', 'histo_3490990_61.root', 'histo_3490990_62.root', 'histo_3490990_63.root', 'histo_3490990_64.root', 'histo_3490990_65.root', 'histo_3490990_66.root', 'histo_3490990_67.root', 'histo_3490990_68.root', 'histo_3490990_69.root', 'histo_3490990_70.root', 'histo_3490990_71.root', 'histo_3490990_72.root', 'histo_3490990_73.root', 'histo_3490990_74.root', 'histo_3490990_75.root', 'histo_3490990_76.root', 'histo_3490990_77.root', 'histo_3490990_78.root', 'histo_3490990_79.root', 'histo_3490990_80.root', 'histo_3490990_81.root', 'histo_3490990_82.root', 'histo_3490990_83.root', 'histo_3490990_84.root', 'histo_3490990_85.root', 'histo_3490990_86.root', 'histo_3490990_87.root', 'histo_3490990_88.root', 'histo_3490990_89.root', 'histo_3490990_9.root', 'histo_3490990_90.root', 'histo_3490990_91.root', 'histo_3490990_92.root', 'histo_3490990_93.root', 'histo_3490990_94.root', 'histo_3490990_95.root', 'histo_3490990_96.root', 'histo_3490990_97.root', 'histo_3490990_98.root']\n"
     ]
    },
    {
     "name": "stderr",
     "output_type": "stream",
     "text": [
      "99it [26:14, 15.93s/it]"
     ]
    }
   ],
   "source": [
    "#raw_dir='/grid_mnt/data__data.polcms/cms/tarabini/GENPHOTESTPU2_noSmearing/step3_ticlv4_clue3d_CMSSW_12_4_0_pre2/'\n",
    "#raw_dir=\"/grid_mnt/data__data.polcms/cms/cappati/240419_pions_step3/\" ### PI\n",
    "#raw_dir=\"/grid_mnt/data__data.polcms/cms/cappati/240517_photonsD98_step3/\"\n",
    "raw_dir=\"/grid_mnt/data__data.polcms/cms/sghosh/PIDREGDATA_CERN/CloseByPion_v5/histo/\"\n",
    "output_dir = '/grid_mnt/data__data.polcms/cms/sghosh/PIDREGDATA_CERN_PROCESSED/CloseByPion_07082024'\n",
    "fnamelist = os.listdir(raw_dir)#+'STEP3_*.root'\n",
    "print(fnamelist)\n",
    "\n",
    "for idx, file in tqdm(enumerate(fnamelist)):\n",
    "    try:\n",
    "        #print(raw_dir+file,idx)\n",
    "        analyze(raw_dir+file,idx, 0.6, output_dir) ### PHO\n",
    "        #analyze(raw_dir+file,idx, 0.99) ### PI\n",
    "        #break\n",
    "    except:\n",
    "        print(\"file is invalid, skipping....\")"
   ]
  },
  {
   "cell_type": "code",
   "execution_count": null,
   "id": "2ad2191c",
   "metadata": {},
   "outputs": [],
   "source": []
  }
 ],
 "metadata": {
  "kernelspec": {
   "display_name": "torchtest3p8",
   "language": "python",
   "name": "torchtest3p8"
  },
  "language_info": {
   "codemirror_mode": {
    "name": "ipython",
    "version": 3
   },
   "file_extension": ".py",
   "mimetype": "text/x-python",
   "name": "python",
   "nbconvert_exporter": "python",
   "pygments_lexer": "ipython3",
   "version": "3.8.16"
  }
 },
 "nbformat": 4,
 "nbformat_minor": 5
}
